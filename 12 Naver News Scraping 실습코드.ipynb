{
 "cells": [
  {
   "cell_type": "code",
   "execution_count": 2,
   "metadata": {},
   "outputs": [
    {
     "name": "stdout",
     "output_type": "stream",
     "text": [
      "성균관대_ 코로나19 상황 감안한 대입전형 운영방안 발표\n",
      "전자신문언론사 선정\n",
      "============================================================\n",
      "경희·서강·성균관대_ 수시 논술 비교과 영역 ‘만점’ 준다\n",
      "서울신문언론사 선정\n",
      "============================================================\n",
      "고려대·성균관대_ 매년 30억 지원 ICT인재양성 사업 선정\n",
      "IT조선\n",
      "============================================================\n",
      "[경남대학교] LINC+사업단_ 지역사회 어르신 건강 맞춤형 실버푸드 제공\n",
      "쿠키뉴스\n",
      "============================================================\n",
      "프로 진출 앞둔 성균관대 양준우 \"다재다능함이 내 장점\"\n",
      "바스켓코리아\n",
      "============================================================\n",
      "서울대_ 성균관대 등 5개 대학 '고3 구제책' 확정\n",
      "파이낸셜뉴스언론사 선정\n",
      "============================================================\n",
      "성균관대 반도체시스템공학과 김소영 교수_ 대학 발전기금 등 5000만 원 기부\n",
      "테크월드\n",
      "============================================================\n",
      "성균관대 트랜스미디어연구소_ 2020년 문화콘텐츠 R&D 전문인력양성 사업 선정\n",
      "테크월드\n",
      "============================================================\n",
      "[유성룡의 입시 포인트] 2021학년도 입시_ 성균관대편\n",
      "조선에듀\n",
      "============================================================\n",
      "발표하는 김민호 성균관대 법학전문대학원 교수\n",
      "뉴스핌\n",
      "============================================================\n"
     ]
    }
   ],
   "source": [
    "import requests\n",
    "from bs4 import BeautifulSoup\n",
    "\n",
    "f=open('naverarticle.csv','w')\n",
    "f.write('기사제목, 언론사\\n')\n",
    "\n",
    "url='https://search.naver.com/search.naver?&where=news&query=성균관대'\n",
    "raw=requests.get(url)\n",
    "html=BeautifulSoup(raw.text,'html.parser')\n",
    "article=html.select('ul.type01 > li')\n",
    "\n",
    "for i in article:\n",
    "    title=i.select_one('dt > a._sp_each_title').text.strip().replace(',','_')\n",
    "    pub=i.select_one('dd.txt_inline > span._sp_each_source').text.strip().replace(',','_')\n",
    "    \n",
    "    print(title)\n",
    "    print(pub)\n",
    "    print('='*60)\n",
    "    f.write(title + ',' + pub + '\\n')\n",
    "\n",
    "f.close()"
   ]
  }
 ],
 "metadata": {
  "kernelspec": {
   "display_name": "tensorflow",
   "language": "python",
   "name": "tensorflow"
  },
  "language_info": {
   "codemirror_mode": {
    "name": "ipython",
    "version": 3
   },
   "file_extension": ".py",
   "mimetype": "text/x-python",
   "name": "python",
   "nbconvert_exporter": "python",
   "pygments_lexer": "ipython3",
   "version": "3.7.7"
  }
 },
 "nbformat": 4,
 "nbformat_minor": 4
}
